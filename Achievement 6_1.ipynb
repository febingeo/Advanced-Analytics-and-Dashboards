{
 "cells": [
  {
   "cell_type": "code",
   "execution_count": 3,
   "id": "c067cbbe-a334-41a1-a89c-e5d52d12ab8b",
   "metadata": {},
   "outputs": [],
   "source": [
    "#import libraries\n",
    "import pandas as pd\n",
    "import numpy as np\n",
    "import os"
   ]
  },
  {
   "cell_type": "code",
   "execution_count": 1,
   "id": "2358a63e-fc3a-4467-94f5-475dd489251d",
   "metadata": {},
   "outputs": [],
   "source": [
    "#assigning path\n",
    "path = r'/Users/febingeorge/Documents'"
   ]
  },
  {
   "cell_type": "code",
   "execution_count": 199,
   "id": "8a973606-a135-48e0-b7d9-303b79cd7912",
   "metadata": {},
   "outputs": [
    {
     "data": {
      "text/plain": [
       "'/Users/febingeorge/Documents'"
      ]
     },
     "execution_count": 199,
     "metadata": {},
     "output_type": "execute_result"
    }
   ],
   "source": [
    "path"
   ]
  },
  {
   "cell_type": "code",
   "execution_count": 201,
   "id": "78c88254-a48f-4ba5-bc8f-3779a377dbab",
   "metadata": {},
   "outputs": [],
   "source": [
    "#importing dataset\n",
    "df = pd.read_csv(os.path.join(path,'boat_data.csv'),index_col = False)"
   ]
  },
  {
   "cell_type": "code",
   "execution_count": 203,
   "id": "eb321547-4792-4067-8a46-1a13a85e0dd6",
   "metadata": {},
   "outputs": [
    {
     "data": {
      "text/plain": [
       "(9888, 10)"
      ]
     },
     "execution_count": 203,
     "metadata": {},
     "output_type": "execute_result"
    }
   ],
   "source": [
    "#Total columns and rows\n",
    "df.shape"
   ]
  },
  {
   "cell_type": "code",
   "execution_count": 205,
   "id": "d8772144-aed4-4c41-8fad-2033578c412e",
   "metadata": {},
   "outputs": [
    {
     "data": {
      "text/plain": [
       "Index(['Price', 'Boat Type', 'Manufacturer', 'Type', 'Year Built', 'Length',\n",
       "       'Width', 'Material', 'Location', 'Number of views last 7 days'],\n",
       "      dtype='object')"
      ]
     },
     "execution_count": 205,
     "metadata": {},
     "output_type": "execute_result"
    }
   ],
   "source": [
    "df.columns"
   ]
  },
  {
   "cell_type": "code",
   "execution_count": 207,
   "id": "1b4720be-422e-433a-839b-87b727a558b1",
   "metadata": {},
   "outputs": [
    {
     "name": "stdout",
     "output_type": "stream",
     "text": [
      "<class 'pandas.core.frame.DataFrame'>\n",
      "RangeIndex: 9888 entries, 0 to 9887\n",
      "Data columns (total 10 columns):\n",
      " #   Column                       Non-Null Count  Dtype  \n",
      "---  ------                       --------------  -----  \n",
      " 0   Price                        9888 non-null   object \n",
      " 1   Boat Type                    9888 non-null   object \n",
      " 2   Manufacturer                 8550 non-null   object \n",
      " 3   Type                         9882 non-null   object \n",
      " 4   Year Built                   9888 non-null   int64  \n",
      " 5   Length                       9879 non-null   float64\n",
      " 6   Width                        9832 non-null   float64\n",
      " 7   Material                     8139 non-null   object \n",
      " 8   Location                     9852 non-null   object \n",
      " 9   Number of views last 7 days  9888 non-null   int64  \n",
      "dtypes: float64(2), int64(2), object(6)\n",
      "memory usage: 772.6+ KB\n"
     ]
    }
   ],
   "source": [
    "df.info()"
   ]
  },
  {
   "cell_type": "code",
   "execution_count": 209,
   "id": "2921d350-28ef-4c08-9943-42a6696dbf65",
   "metadata": {},
   "outputs": [
    {
     "data": {
      "text/plain": [
       "Price                             0\n",
       "Boat Type                         0\n",
       "Manufacturer                   1338\n",
       "Type                              6\n",
       "Year Built                        0\n",
       "Length                            9\n",
       "Width                            56\n",
       "Material                       1749\n",
       "Location                         36\n",
       "Number of views last 7 days       0\n",
       "dtype: int64"
      ]
     },
     "execution_count": 209,
     "metadata": {},
     "output_type": "execute_result"
    }
   ],
   "source": [
    "#Nan values\n",
    "df.isnull().sum()"
   ]
  },
  {
   "cell_type": "code",
   "execution_count": 211,
   "id": "7ad61187-2b49-4d4e-a399-d196f016f936",
   "metadata": {},
   "outputs": [
    {
     "data": {
      "text/html": [
       "<div>\n",
       "<style scoped>\n",
       "    .dataframe tbody tr th:only-of-type {\n",
       "        vertical-align: middle;\n",
       "    }\n",
       "\n",
       "    .dataframe tbody tr th {\n",
       "        vertical-align: top;\n",
       "    }\n",
       "\n",
       "    .dataframe thead th {\n",
       "        text-align: right;\n",
       "    }\n",
       "</style>\n",
       "<table border=\"1\" class=\"dataframe\">\n",
       "  <thead>\n",
       "    <tr style=\"text-align: right;\">\n",
       "      <th></th>\n",
       "      <th>Year Built</th>\n",
       "      <th>Length</th>\n",
       "      <th>Width</th>\n",
       "      <th>Number of views last 7 days</th>\n",
       "    </tr>\n",
       "  </thead>\n",
       "  <tbody>\n",
       "    <tr>\n",
       "      <th>count</th>\n",
       "      <td>9888.000000</td>\n",
       "      <td>9879.000000</td>\n",
       "      <td>9832.000000</td>\n",
       "      <td>9888.000000</td>\n",
       "    </tr>\n",
       "    <tr>\n",
       "      <th>mean</th>\n",
       "      <td>1893.192860</td>\n",
       "      <td>11.570017</td>\n",
       "      <td>3.520124</td>\n",
       "      <td>149.160801</td>\n",
       "    </tr>\n",
       "    <tr>\n",
       "      <th>std</th>\n",
       "      <td>460.201582</td>\n",
       "      <td>6.002820</td>\n",
       "      <td>1.220534</td>\n",
       "      <td>151.819752</td>\n",
       "    </tr>\n",
       "    <tr>\n",
       "      <th>min</th>\n",
       "      <td>0.000000</td>\n",
       "      <td>1.040000</td>\n",
       "      <td>0.010000</td>\n",
       "      <td>13.000000</td>\n",
       "    </tr>\n",
       "    <tr>\n",
       "      <th>25%</th>\n",
       "      <td>1996.000000</td>\n",
       "      <td>7.470000</td>\n",
       "      <td>2.540000</td>\n",
       "      <td>70.000000</td>\n",
       "    </tr>\n",
       "    <tr>\n",
       "      <th>50%</th>\n",
       "      <td>2007.000000</td>\n",
       "      <td>10.280000</td>\n",
       "      <td>3.330000</td>\n",
       "      <td>108.000000</td>\n",
       "    </tr>\n",
       "    <tr>\n",
       "      <th>75%</th>\n",
       "      <td>2017.000000</td>\n",
       "      <td>13.930000</td>\n",
       "      <td>4.250000</td>\n",
       "      <td>172.000000</td>\n",
       "    </tr>\n",
       "    <tr>\n",
       "      <th>max</th>\n",
       "      <td>2021.000000</td>\n",
       "      <td>100.000000</td>\n",
       "      <td>25.160000</td>\n",
       "      <td>3263.000000</td>\n",
       "    </tr>\n",
       "  </tbody>\n",
       "</table>\n",
       "</div>"
      ],
      "text/plain": [
       "        Year Built       Length        Width  Number of views last 7 days\n",
       "count  9888.000000  9879.000000  9832.000000                  9888.000000\n",
       "mean   1893.192860    11.570017     3.520124                   149.160801\n",
       "std     460.201582     6.002820     1.220534                   151.819752\n",
       "min       0.000000     1.040000     0.010000                    13.000000\n",
       "25%    1996.000000     7.470000     2.540000                    70.000000\n",
       "50%    2007.000000    10.280000     3.330000                   108.000000\n",
       "75%    2017.000000    13.930000     4.250000                   172.000000\n",
       "max    2021.000000   100.000000    25.160000                  3263.000000"
      ]
     },
     "execution_count": 211,
     "metadata": {},
     "output_type": "execute_result"
    }
   ],
   "source": [
    "#Statistical Analyisis\n",
    "df.describe()"
   ]
  },
  {
   "cell_type": "code",
   "execution_count": 213,
   "id": "36c838b9-d57a-416a-b8fa-dece5fa7e9c6",
   "metadata": {},
   "outputs": [],
   "source": [
    "#Searching for duplicates\n",
    "df_dups = df[df.duplicated()]"
   ]
  },
  {
   "cell_type": "code",
   "execution_count": 215,
   "id": "97091f64-99e2-439a-9a9a-42247a77faf1",
   "metadata": {},
   "outputs": [
    {
     "data": {
      "text/html": [
       "<div>\n",
       "<style scoped>\n",
       "    .dataframe tbody tr th:only-of-type {\n",
       "        vertical-align: middle;\n",
       "    }\n",
       "\n",
       "    .dataframe tbody tr th {\n",
       "        vertical-align: top;\n",
       "    }\n",
       "\n",
       "    .dataframe thead th {\n",
       "        text-align: right;\n",
       "    }\n",
       "</style>\n",
       "<table border=\"1\" class=\"dataframe\">\n",
       "  <thead>\n",
       "    <tr style=\"text-align: right;\">\n",
       "      <th></th>\n",
       "      <th>Price</th>\n",
       "      <th>Boat Type</th>\n",
       "      <th>Manufacturer</th>\n",
       "      <th>Type</th>\n",
       "      <th>Year Built</th>\n",
       "      <th>Length</th>\n",
       "      <th>Width</th>\n",
       "      <th>Material</th>\n",
       "      <th>Location</th>\n",
       "      <th>Number of views last 7 days</th>\n",
       "    </tr>\n",
       "  </thead>\n",
       "  <tbody>\n",
       "  </tbody>\n",
       "</table>\n",
       "</div>"
      ],
      "text/plain": [
       "Empty DataFrame\n",
       "Columns: [Price, Boat Type, Manufacturer, Type, Year Built, Length, Width, Material, Location, Number of views last 7 days]\n",
       "Index: []"
      ]
     },
     "execution_count": 215,
     "metadata": {},
     "output_type": "execute_result"
    }
   ],
   "source": [
    "df_dups"
   ]
  },
  {
   "cell_type": "code",
   "execution_count": 217,
   "id": "38bd552a-ca34-4357-8c49-971f0b0ac6f8",
   "metadata": {},
   "outputs": [],
   "source": [
    "#filling Nan values\n",
    "df[['Manufacturer','Type','Material','Location']] = df[['Manufacturer','Type','Material','Location']].fillna('Not Available')"
   ]
  },
  {
   "cell_type": "code",
   "execution_count": 219,
   "id": "a16a0554-4f4d-4ae8-9acf-2bf0e1db9984",
   "metadata": {},
   "outputs": [
    {
     "data": {
      "text/plain": [
       "Price                           0\n",
       "Boat Type                       0\n",
       "Manufacturer                    0\n",
       "Type                            0\n",
       "Year Built                      0\n",
       "Length                          9\n",
       "Width                          56\n",
       "Material                        0\n",
       "Location                        0\n",
       "Number of views last 7 days     0\n",
       "dtype: int64"
      ]
     },
     "execution_count": 219,
     "metadata": {},
     "output_type": "execute_result"
    }
   ],
   "source": [
    "df.isnull().sum()"
   ]
  },
  {
   "cell_type": "markdown",
   "id": "565511f6-7ead-4073-b122-6d950535d92e",
   "metadata": {},
   "source": [
    "Replacing Nan of length and Width with mean values"
   ]
  },
  {
   "cell_type": "code",
   "execution_count": 222,
   "id": "f330e8d0-de57-47bb-90fb-810e80bb2a7b",
   "metadata": {},
   "outputs": [
    {
     "name": "stderr",
     "output_type": "stream",
     "text": [
      "/var/folders/vk/t91x8sx96dgcp872p9l713yh0000gn/T/ipykernel_7856/4166668562.py:1: FutureWarning: A value is trying to be set on a copy of a DataFrame or Series through chained assignment using an inplace method.\n",
      "The behavior will change in pandas 3.0. This inplace method will never work because the intermediate object on which we are setting values always behaves as a copy.\n",
      "\n",
      "For example, when doing 'df[col].method(value, inplace=True)', try using 'df.method({col: value}, inplace=True)' or df[col] = df[col].method(value) instead, to perform the operation inplace on the original object.\n",
      "\n",
      "\n",
      "  df['Length'].fillna( 11.57,inplace = True)\n"
     ]
    }
   ],
   "source": [
    "df['Length'].fillna( 11.57,inplace = True)"
   ]
  },
  {
   "cell_type": "code",
   "execution_count": 224,
   "id": "8c0ababf-3958-471b-a983-0e2cc8f2a46a",
   "metadata": {},
   "outputs": [
    {
     "name": "stderr",
     "output_type": "stream",
     "text": [
      "/var/folders/vk/t91x8sx96dgcp872p9l713yh0000gn/T/ipykernel_7856/2761423037.py:1: FutureWarning: A value is trying to be set on a copy of a DataFrame or Series through chained assignment using an inplace method.\n",
      "The behavior will change in pandas 3.0. This inplace method will never work because the intermediate object on which we are setting values always behaves as a copy.\n",
      "\n",
      "For example, when doing 'df[col].method(value, inplace=True)', try using 'df.method({col: value}, inplace=True)' or df[col] = df[col].method(value) instead, to perform the operation inplace on the original object.\n",
      "\n",
      "\n",
      "  df['Width'].fillna(3.52,inplace = True)\n"
     ]
    }
   ],
   "source": [
    "df['Width'].fillna(3.52,inplace = True)"
   ]
  },
  {
   "cell_type": "code",
   "execution_count": 226,
   "id": "bb647ace-b570-46f9-b0e6-2019a13b6da4",
   "metadata": {},
   "outputs": [
    {
     "data": {
      "text/plain": [
       "Price                          0\n",
       "Boat Type                      0\n",
       "Manufacturer                   0\n",
       "Type                           0\n",
       "Year Built                     0\n",
       "Length                         0\n",
       "Width                          0\n",
       "Material                       0\n",
       "Location                       0\n",
       "Number of views last 7 days    0\n",
       "dtype: int64"
      ]
     },
     "execution_count": 226,
     "metadata": {},
     "output_type": "execute_result"
    }
   ],
   "source": [
    "df.isnull().sum()"
   ]
  },
  {
   "cell_type": "code",
   "execution_count": 228,
   "id": "228c9b89-0066-49c6-b6c9-6f90e8d330bb",
   "metadata": {},
   "outputs": [],
   "source": [
    "#changing the price format\n",
    "df['Price'] = df['Price'].str.replace('Â£','GBP')"
   ]
  },
  {
   "cell_type": "code",
   "execution_count": 230,
   "id": "d70cc342-4238-408a-b86c-0160257d76f1",
   "metadata": {},
   "outputs": [],
   "source": [
    "df_price = df[df['Price'] == 'DKK 2600000']"
   ]
  },
  {
   "cell_type": "code",
   "execution_count": 232,
   "id": "47a83fd5-1b4e-41d9-9cfe-8b16a700443b",
   "metadata": {},
   "outputs": [
    {
     "data": {
      "text/html": [
       "<div>\n",
       "<style scoped>\n",
       "    .dataframe tbody tr th:only-of-type {\n",
       "        vertical-align: middle;\n",
       "    }\n",
       "\n",
       "    .dataframe tbody tr th {\n",
       "        vertical-align: top;\n",
       "    }\n",
       "\n",
       "    .dataframe thead th {\n",
       "        text-align: right;\n",
       "    }\n",
       "</style>\n",
       "<table border=\"1\" class=\"dataframe\">\n",
       "  <thead>\n",
       "    <tr style=\"text-align: right;\">\n",
       "      <th></th>\n",
       "      <th>Price</th>\n",
       "      <th>Boat Type</th>\n",
       "      <th>Manufacturer</th>\n",
       "      <th>Type</th>\n",
       "      <th>Year Built</th>\n",
       "      <th>Length</th>\n",
       "      <th>Width</th>\n",
       "      <th>Material</th>\n",
       "      <th>Location</th>\n",
       "      <th>Number of views last 7 days</th>\n",
       "    </tr>\n",
       "  </thead>\n",
       "  <tbody>\n",
       "    <tr>\n",
       "      <th>4462</th>\n",
       "      <td>DKK 2600000</td>\n",
       "      <td>Motor Yacht</td>\n",
       "      <td>Not Available</td>\n",
       "      <td>Used boat</td>\n",
       "      <td>2013</td>\n",
       "      <td>14.45</td>\n",
       "      <td>3.8</td>\n",
       "      <td>GRP</td>\n",
       "      <td>Switzerland</td>\n",
       "      <td>83</td>\n",
       "    </tr>\n",
       "  </tbody>\n",
       "</table>\n",
       "</div>"
      ],
      "text/plain": [
       "            Price    Boat Type   Manufacturer       Type  Year Built  Length  \\\n",
       "4462  DKK 2600000  Motor Yacht  Not Available  Used boat        2013   14.45   \n",
       "\n",
       "      Width Material     Location  Number of views last 7 days  \n",
       "4462    3.8      GRP  Switzerland                           83  "
      ]
     },
     "execution_count": 232,
     "metadata": {},
     "output_type": "execute_result"
    }
   ],
   "source": [
    "df_price"
   ]
  },
  {
   "cell_type": "code",
   "execution_count": null,
   "id": "07816115-db7e-4973-9701-cbd0f4af3a10",
   "metadata": {},
   "outputs": [],
   "source": [
    "df_country = df[df['Country'] == 'Slovenia']"
   ]
  },
  {
   "cell_type": "code",
   "execution_count": null,
   "id": "6c5d0e70-d032-49c4-beb6-dc51f1f19b8b",
   "metadata": {},
   "outputs": [],
   "source": [
    "df_country.shape"
   ]
  },
  {
   "cell_type": "code",
   "execution_count": null,
   "id": "0a416a50-0d55-4e2e-b3eb-c3b7801c0450",
   "metadata": {},
   "outputs": [],
   "source": [
    "df.head(50)"
   ]
  },
  {
   "cell_type": "code",
   "execution_count": 234,
   "id": "f4b757d2-769f-4001-8ad0-48c6a099af1f",
   "metadata": {},
   "outputs": [],
   "source": [
    "#splitting location column\n",
    "df_location = df['Location'].str.split('»',expand = True)"
   ]
  },
  {
   "cell_type": "code",
   "execution_count": 236,
   "id": "23be0735-3061-46f2-9006-44e849e5df2e",
   "metadata": {},
   "outputs": [],
   "source": [
    "df_location.columns = ['Country' , 'City' ,'City1']"
   ]
  },
  {
   "cell_type": "code",
   "execution_count": 238,
   "id": "a7cfe52e-e40d-468b-b643-79afed5c5563",
   "metadata": {},
   "outputs": [
    {
     "data": {
      "text/html": [
       "<div>\n",
       "<style scoped>\n",
       "    .dataframe tbody tr th:only-of-type {\n",
       "        vertical-align: middle;\n",
       "    }\n",
       "\n",
       "    .dataframe tbody tr th {\n",
       "        vertical-align: top;\n",
       "    }\n",
       "\n",
       "    .dataframe thead th {\n",
       "        text-align: right;\n",
       "    }\n",
       "</style>\n",
       "<table border=\"1\" class=\"dataframe\">\n",
       "  <thead>\n",
       "    <tr style=\"text-align: right;\">\n",
       "      <th></th>\n",
       "      <th>Country</th>\n",
       "      <th>City</th>\n",
       "      <th>City1</th>\n",
       "    </tr>\n",
       "  </thead>\n",
       "  <tbody>\n",
       "    <tr>\n",
       "      <th>0</th>\n",
       "      <td>Switzerland Â</td>\n",
       "      <td>Lake Geneva Â</td>\n",
       "      <td>VÃ©senaz</td>\n",
       "    </tr>\n",
       "    <tr>\n",
       "      <th>1</th>\n",
       "      <td>Germany Â</td>\n",
       "      <td>BÃ¶nningstedt</td>\n",
       "      <td>None</td>\n",
       "    </tr>\n",
       "    <tr>\n",
       "      <th>2</th>\n",
       "      <td>Switzerland Â</td>\n",
       "      <td>Lake of Zurich Â</td>\n",
       "      <td>StÃ¤fa ZH</td>\n",
       "    </tr>\n",
       "    <tr>\n",
       "      <th>3</th>\n",
       "      <td>Denmark Â</td>\n",
       "      <td>Svendborg</td>\n",
       "      <td>None</td>\n",
       "    </tr>\n",
       "    <tr>\n",
       "      <th>4</th>\n",
       "      <td>Germany Â</td>\n",
       "      <td>Bayern Â</td>\n",
       "      <td>MÃ¼nchen</td>\n",
       "    </tr>\n",
       "  </tbody>\n",
       "</table>\n",
       "</div>"
      ],
      "text/plain": [
       "         Country               City       City1\n",
       "0  Switzerland Â      Lake Geneva Â    VÃ©senaz\n",
       "1      Germany Â      BÃ¶nningstedt        None\n",
       "2  Switzerland Â   Lake of Zurich Â   StÃ¤fa ZH\n",
       "3      Denmark Â          Svendborg        None\n",
       "4      Germany Â           Bayern Â    MÃ¼nchen"
      ]
     },
     "execution_count": 238,
     "metadata": {},
     "output_type": "execute_result"
    }
   ],
   "source": [
    "df_location.head()"
   ]
  },
  {
   "cell_type": "code",
   "execution_count": 240,
   "id": "ac7aaaef-9594-425e-9ba9-10547ea1ec50",
   "metadata": {},
   "outputs": [],
   "source": [
    "df_location['Country'] = df_location['Country'].str.replace(' Â' , '')"
   ]
  },
  {
   "cell_type": "code",
   "execution_count": 242,
   "id": "3bbb8096-7bf8-4a81-a7e4-7dbdfcb000e3",
   "metadata": {},
   "outputs": [],
   "source": [
    "df_location['City'] = df_location['City'].str.replace(' Â' , '')"
   ]
  },
  {
   "cell_type": "code",
   "execution_count": 244,
   "id": "c408f1fe-5e45-4953-be38-25fe2998698d",
   "metadata": {},
   "outputs": [],
   "source": [
    "df_location['City'] = df_location['City'].str.replace('BÃ¶nningstedt' , 'Bönningstedt')"
   ]
  },
  {
   "cell_type": "code",
   "execution_count": 246,
   "id": "6d0b41b6-33ce-4919-8af3-64db0c2876f9",
   "metadata": {},
   "outputs": [],
   "source": [
    "df_location = df_location.drop(columns = ['City1'])"
   ]
  },
  {
   "cell_type": "code",
   "execution_count": 248,
   "id": "ac6e30df-0e32-4dfe-ba25-f5669b77f02b",
   "metadata": {},
   "outputs": [
    {
     "data": {
      "text/html": [
       "<div>\n",
       "<style scoped>\n",
       "    .dataframe tbody tr th:only-of-type {\n",
       "        vertical-align: middle;\n",
       "    }\n",
       "\n",
       "    .dataframe tbody tr th {\n",
       "        vertical-align: top;\n",
       "    }\n",
       "\n",
       "    .dataframe thead th {\n",
       "        text-align: right;\n",
       "    }\n",
       "</style>\n",
       "<table border=\"1\" class=\"dataframe\">\n",
       "  <thead>\n",
       "    <tr style=\"text-align: right;\">\n",
       "      <th></th>\n",
       "      <th>Country</th>\n",
       "      <th>City</th>\n",
       "    </tr>\n",
       "  </thead>\n",
       "  <tbody>\n",
       "    <tr>\n",
       "      <th>0</th>\n",
       "      <td>Switzerland</td>\n",
       "      <td>Lake Geneva</td>\n",
       "    </tr>\n",
       "    <tr>\n",
       "      <th>1</th>\n",
       "      <td>Germany</td>\n",
       "      <td>Bönningstedt</td>\n",
       "    </tr>\n",
       "    <tr>\n",
       "      <th>2</th>\n",
       "      <td>Switzerland</td>\n",
       "      <td>Lake of Zurich</td>\n",
       "    </tr>\n",
       "    <tr>\n",
       "      <th>3</th>\n",
       "      <td>Denmark</td>\n",
       "      <td>Svendborg</td>\n",
       "    </tr>\n",
       "    <tr>\n",
       "      <th>4</th>\n",
       "      <td>Germany</td>\n",
       "      <td>Bayern</td>\n",
       "    </tr>\n",
       "  </tbody>\n",
       "</table>\n",
       "</div>"
      ],
      "text/plain": [
       "       Country             City\n",
       "0  Switzerland      Lake Geneva\n",
       "1      Germany     Bönningstedt\n",
       "2  Switzerland   Lake of Zurich\n",
       "3      Denmark        Svendborg\n",
       "4      Germany           Bayern"
      ]
     },
     "execution_count": 248,
     "metadata": {},
     "output_type": "execute_result"
    }
   ],
   "source": [
    "df_location.head()"
   ]
  },
  {
   "cell_type": "code",
   "execution_count": 250,
   "id": "c43ac256-d3b5-4a4d-9d3e-1e6b14ef2ab7",
   "metadata": {},
   "outputs": [
    {
     "data": {
      "text/plain": [
       "(9888, 2)"
      ]
     },
     "execution_count": 250,
     "metadata": {},
     "output_type": "execute_result"
    }
   ],
   "source": [
    "df_location.shape"
   ]
  },
  {
   "cell_type": "code",
   "execution_count": 177,
   "id": "114da747-4c2e-4d0b-b18a-4c231b9c35a6",
   "metadata": {},
   "outputs": [],
   "source": [
    "##df.rename(columns = {'Location' : 'Country'},inplace = True)"
   ]
  },
  {
   "cell_type": "code",
   "execution_count": 252,
   "id": "81eb9634-a88d-49a6-8f29-7df10f0b0cf7",
   "metadata": {},
   "outputs": [
    {
     "data": {
      "text/plain": [
       "(9888, 10)"
      ]
     },
     "execution_count": 252,
     "metadata": {},
     "output_type": "execute_result"
    }
   ],
   "source": [
    "df.shape"
   ]
  },
  {
   "cell_type": "code",
   "execution_count": 254,
   "id": "d1b82e2a-c51b-4169-9d0c-482b102a53c9",
   "metadata": {},
   "outputs": [],
   "source": [
    "df_merged = pd.concat([df,df_location],axis = 1)"
   ]
  },
  {
   "cell_type": "code",
   "execution_count": 266,
   "id": "9d8ad2f3-1659-475c-8c70-a2f8314bd763",
   "metadata": {
    "scrolled": true
   },
   "outputs": [
    {
     "data": {
      "text/html": [
       "<div>\n",
       "<style scoped>\n",
       "    .dataframe tbody tr th:only-of-type {\n",
       "        vertical-align: middle;\n",
       "    }\n",
       "\n",
       "    .dataframe tbody tr th {\n",
       "        vertical-align: top;\n",
       "    }\n",
       "\n",
       "    .dataframe thead th {\n",
       "        text-align: right;\n",
       "    }\n",
       "</style>\n",
       "<table border=\"1\" class=\"dataframe\">\n",
       "  <thead>\n",
       "    <tr style=\"text-align: right;\">\n",
       "      <th></th>\n",
       "      <th>Price</th>\n",
       "      <th>Boat Type</th>\n",
       "      <th>Manufacturer</th>\n",
       "      <th>Type</th>\n",
       "      <th>Year Built</th>\n",
       "      <th>Length</th>\n",
       "      <th>Width</th>\n",
       "      <th>Material</th>\n",
       "      <th>Number of views last 7 days</th>\n",
       "      <th>Country</th>\n",
       "    </tr>\n",
       "  </thead>\n",
       "  <tbody>\n",
       "    <tr>\n",
       "      <th>0</th>\n",
       "      <td>CHF 3337</td>\n",
       "      <td>Motor Yacht</td>\n",
       "      <td>Rigiflex power boats</td>\n",
       "      <td>new boat from stock</td>\n",
       "      <td>2017</td>\n",
       "      <td>4.00</td>\n",
       "      <td>1.90</td>\n",
       "      <td>Not Available</td>\n",
       "      <td>226</td>\n",
       "      <td>Switzerland</td>\n",
       "    </tr>\n",
       "    <tr>\n",
       "      <th>1</th>\n",
       "      <td>EUR 3490</td>\n",
       "      <td>Center console boat</td>\n",
       "      <td>Terhi power boats</td>\n",
       "      <td>new boat from stock</td>\n",
       "      <td>2020</td>\n",
       "      <td>4.00</td>\n",
       "      <td>1.50</td>\n",
       "      <td>Thermoplastic</td>\n",
       "      <td>75</td>\n",
       "      <td>Germany</td>\n",
       "    </tr>\n",
       "    <tr>\n",
       "      <th>2</th>\n",
       "      <td>CHF 3770</td>\n",
       "      <td>Sport Boat</td>\n",
       "      <td>Marine power boats</td>\n",
       "      <td>new boat from stock</td>\n",
       "      <td>0</td>\n",
       "      <td>3.69</td>\n",
       "      <td>1.42</td>\n",
       "      <td>Aluminium</td>\n",
       "      <td>124</td>\n",
       "      <td>Switzerland</td>\n",
       "    </tr>\n",
       "    <tr>\n",
       "      <th>3</th>\n",
       "      <td>DKK 25900</td>\n",
       "      <td>Sport Boat</td>\n",
       "      <td>Pioner power boats</td>\n",
       "      <td>new boat from stock</td>\n",
       "      <td>2020</td>\n",
       "      <td>3.00</td>\n",
       "      <td>1.00</td>\n",
       "      <td>Not Available</td>\n",
       "      <td>64</td>\n",
       "      <td>Denmark</td>\n",
       "    </tr>\n",
       "    <tr>\n",
       "      <th>4</th>\n",
       "      <td>EUR 3399</td>\n",
       "      <td>Fishing Boat</td>\n",
       "      <td>Linder power boats</td>\n",
       "      <td>new boat from stock</td>\n",
       "      <td>2019</td>\n",
       "      <td>3.55</td>\n",
       "      <td>1.46</td>\n",
       "      <td>Aluminium</td>\n",
       "      <td>58</td>\n",
       "      <td>Germany</td>\n",
       "    </tr>\n",
       "    <tr>\n",
       "      <th>...</th>\n",
       "      <td>...</td>\n",
       "      <td>...</td>\n",
       "      <td>...</td>\n",
       "      <td>...</td>\n",
       "      <td>...</td>\n",
       "      <td>...</td>\n",
       "      <td>...</td>\n",
       "      <td>...</td>\n",
       "      <td>...</td>\n",
       "      <td>...</td>\n",
       "    </tr>\n",
       "    <tr>\n",
       "      <th>9883</th>\n",
       "      <td>CHF 4900</td>\n",
       "      <td>Sport Boat</td>\n",
       "      <td>Sea Ray power boats</td>\n",
       "      <td>Used boat,Unleaded</td>\n",
       "      <td>1987</td>\n",
       "      <td>6.30</td>\n",
       "      <td>2.44</td>\n",
       "      <td>Not Available</td>\n",
       "      <td>1116</td>\n",
       "      <td>Switzerland</td>\n",
       "    </tr>\n",
       "    <tr>\n",
       "      <th>9884</th>\n",
       "      <td>EUR 4516</td>\n",
       "      <td>Sport Boat</td>\n",
       "      <td>Not Available</td>\n",
       "      <td>new boat from stock</td>\n",
       "      <td>0</td>\n",
       "      <td>4.17</td>\n",
       "      <td>1.68</td>\n",
       "      <td>GRP</td>\n",
       "      <td>94</td>\n",
       "      <td>Germany</td>\n",
       "    </tr>\n",
       "    <tr>\n",
       "      <th>9885</th>\n",
       "      <td>EUR 4499</td>\n",
       "      <td>Sport Boat</td>\n",
       "      <td>BlueCraft power boats</td>\n",
       "      <td>new boat from stock,Unleaded</td>\n",
       "      <td>2020</td>\n",
       "      <td>4.40</td>\n",
       "      <td>1.80</td>\n",
       "      <td>GRP</td>\n",
       "      <td>354</td>\n",
       "      <td>Germany</td>\n",
       "    </tr>\n",
       "    <tr>\n",
       "      <th>9886</th>\n",
       "      <td>EUR 4300</td>\n",
       "      <td>Pontoon Boat</td>\n",
       "      <td>Whaly power boats</td>\n",
       "      <td>new boat from stock</td>\n",
       "      <td>2018</td>\n",
       "      <td>4.37</td>\n",
       "      <td>1.89</td>\n",
       "      <td>Not Available</td>\n",
       "      <td>266</td>\n",
       "      <td>Italy</td>\n",
       "    </tr>\n",
       "    <tr>\n",
       "      <th>9887</th>\n",
       "      <td>CHF 3780</td>\n",
       "      <td>Fishing Boat</td>\n",
       "      <td>DarekCo power boats</td>\n",
       "      <td>new boat from stock</td>\n",
       "      <td>2019</td>\n",
       "      <td>3.60</td>\n",
       "      <td>1.60</td>\n",
       "      <td>GRP</td>\n",
       "      <td>194</td>\n",
       "      <td>Switzerland</td>\n",
       "    </tr>\n",
       "  </tbody>\n",
       "</table>\n",
       "<p>9888 rows × 10 columns</p>\n",
       "</div>"
      ],
      "text/plain": [
       "          Price            Boat Type           Manufacturer  \\\n",
       "0      CHF 3337          Motor Yacht   Rigiflex power boats   \n",
       "1      EUR 3490  Center console boat      Terhi power boats   \n",
       "2      CHF 3770           Sport Boat     Marine power boats   \n",
       "3     DKK 25900           Sport Boat     Pioner power boats   \n",
       "4      EUR 3399         Fishing Boat     Linder power boats   \n",
       "...         ...                  ...                    ...   \n",
       "9883   CHF 4900           Sport Boat    Sea Ray power boats   \n",
       "9884   EUR 4516           Sport Boat          Not Available   \n",
       "9885   EUR 4499           Sport Boat  BlueCraft power boats   \n",
       "9886   EUR 4300         Pontoon Boat      Whaly power boats   \n",
       "9887   CHF 3780         Fishing Boat    DarekCo power boats   \n",
       "\n",
       "                              Type  Year Built  Length  Width       Material  \\\n",
       "0              new boat from stock        2017    4.00   1.90  Not Available   \n",
       "1              new boat from stock        2020    4.00   1.50  Thermoplastic   \n",
       "2              new boat from stock           0    3.69   1.42      Aluminium   \n",
       "3              new boat from stock        2020    3.00   1.00  Not Available   \n",
       "4              new boat from stock        2019    3.55   1.46      Aluminium   \n",
       "...                            ...         ...     ...    ...            ...   \n",
       "9883            Used boat,Unleaded        1987    6.30   2.44  Not Available   \n",
       "9884           new boat from stock           0    4.17   1.68            GRP   \n",
       "9885  new boat from stock,Unleaded        2020    4.40   1.80            GRP   \n",
       "9886           new boat from stock        2018    4.37   1.89  Not Available   \n",
       "9887           new boat from stock        2019    3.60   1.60            GRP   \n",
       "\n",
       "      Number of views last 7 days      Country  \n",
       "0                             226  Switzerland  \n",
       "1                              75      Germany  \n",
       "2                             124  Switzerland  \n",
       "3                              64      Denmark  \n",
       "4                              58      Germany  \n",
       "...                           ...          ...  \n",
       "9883                         1116  Switzerland  \n",
       "9884                           94      Germany  \n",
       "9885                          354      Germany  \n",
       "9886                          266        Italy  \n",
       "9887                          194  Switzerland  \n",
       "\n",
       "[9888 rows x 10 columns]"
      ]
     },
     "execution_count": 266,
     "metadata": {},
     "output_type": "execute_result"
    }
   ],
   "source": [
    "df_merged"
   ]
  },
  {
   "cell_type": "code",
   "execution_count": 268,
   "id": "26867060-d0d2-4ecd-b1ec-d08fd99c2308",
   "metadata": {},
   "outputs": [
    {
     "data": {
      "text/plain": [
       "(9888, 10)"
      ]
     },
     "execution_count": 268,
     "metadata": {},
     "output_type": "execute_result"
    }
   ],
   "source": [
    "df_merged.shape"
   ]
  },
  {
   "cell_type": "code",
   "execution_count": 270,
   "id": "f20287a2-d098-4cfe-913a-0e76d26fcda0",
   "metadata": {},
   "outputs": [
    {
     "data": {
      "text/plain": [
       "Price                          0\n",
       "Boat Type                      0\n",
       "Manufacturer                   0\n",
       "Type                           0\n",
       "Year Built                     0\n",
       "Length                         0\n",
       "Width                          0\n",
       "Material                       0\n",
       "Number of views last 7 days    0\n",
       "Country                        0\n",
       "dtype: int64"
      ]
     },
     "execution_count": 270,
     "metadata": {},
     "output_type": "execute_result"
    }
   ],
   "source": [
    "df_merged.isnull().sum()"
   ]
  },
  {
   "cell_type": "code",
   "execution_count": 262,
   "id": "e19e260f-870c-4d83-8ad6-997c6cfc7a78",
   "metadata": {},
   "outputs": [],
   "source": [
    "df_merged = df_merged.drop(columns = ['City','Location'])"
   ]
  },
  {
   "cell_type": "markdown",
   "id": "b93df87c-f528-4378-93cb-d3b485228d92",
   "metadata": {},
   "source": [
    "Formatting all the countries"
   ]
  },
  {
   "cell_type": "code",
   "execution_count": 476,
   "id": "b63061d1-c643-4ca9-8870-83e3ec6915c8",
   "metadata": {
    "scrolled": true
   },
   "outputs": [
    {
     "data": {
      "text/plain": [
       "Country\n",
       "Germany                        1941\n",
       "Italy                          1801\n",
       "France                         1233\n",
       "Switzerland                    1122\n",
       "Netherlands                    1059\n",
       "Croatia                         817\n",
       "Spain                           706\n",
       "United Kingdom                  217\n",
       "Denmark                         174\n",
       "Portugal                        135\n",
       "Austria                          98\n",
       "Greece                           83\n",
       "Malta                            72\n",
       "Belgium                          65\n",
       "Turkey                           64\n",
       "Poland                           42\n",
       "Slovenia                         40\n",
       "Not Available                    36\n",
       "Finland                          35\n",
       "Montenegro                       22\n",
       "United Arab Emirates             17\n",
       "United States                    14\n",
       "Sweden                           13\n",
       "Monaco                           10\n",
       "Slovakia                          9\n",
       "Russian Federation                7\n",
       "Estonia                           6\n",
       "Czech Republic                    5\n",
       "Lithuania                         5\n",
       "Cyprus                            5\n",
       "Hungary                           4\n",
       "Latvia                            3\n",
       "Bulgaria                          3\n",
       "French Southern Territories       3\n",
       "Thailand                          3\n",
       "Ukraine                           2\n",
       "Denmark                           2\n",
       "Australia                         2\n",
       "Norway                            2\n",
       "Ireland                           1\n",
       "Lebanon                           1\n",
       "Morocco                           1\n",
       "Seychelles                        1\n",
       "Taiwan                            1\n",
       "Venezuela                         1\n",
       "Luxembourg                        1\n",
       "Philippines                       1\n",
       "Serbia                            1\n",
       "Egypt                             1\n",
       "Romania                           1\n",
       "Name: count, dtype: int64"
      ]
     },
     "execution_count": 476,
     "metadata": {},
     "output_type": "execute_result"
    }
   ],
   "source": [
    "pd.set_option('display.max_rows', 500)\n",
    "df_merged['Country'].value_counts()"
   ]
  },
  {
   "cell_type": "code",
   "execution_count": 474,
   "id": "becfce95-419e-4e34-966c-c8a0ea346d57",
   "metadata": {},
   "outputs": [],
   "source": [
    "df_merged['Country'] = df_merged['Country'].str.replace('Jersey','United States')"
   ]
  },
  {
   "cell_type": "code",
   "execution_count": 462,
   "id": "f9817ddc-6421-4531-a9ee-b4bef93fa2a7",
   "metadata": {},
   "outputs": [],
   "source": [
    "df_merged['Country'] = df_merged['Country'].str.replace('Izola','Slovenia')"
   ]
  },
  {
   "cell_type": "code",
   "execution_count": 402,
   "id": "59e5fc08-9f74-4f3e-a080-a360fbb3bf61",
   "metadata": {},
   "outputs": [],
   "source": [
    "df_merged['Country'].replace(['Bremen','83278 Traunstein','Steinwiesen','Beilngries ','Greetsile/ KrummhÃ¶rn ','Neustadt in Holstein (Ostsee)','Niederrhein','waren mÃ¼ritz ','Stralsund ','Rostock ','24782 BÃ¼delsdorf ','waren mÃ¼ritz ','Bielefeld','Berlin Wannsee ','Rheinfelden','bodensee','Donau','Heilbronn'], 'Germany', inplace=True)"
   ]
  },
  {
   "cell_type": "code",
   "execution_count": 450,
   "id": "bd0b55a5-d7e2-4fe2-b609-f24e0e301a27",
   "metadata": {},
   "outputs": [],
   "source": [
    "df_merged['Country'] = df_merged['Country'].str.replace('Martinique', 'French Southern Territories', regex=True)"
   ]
  },
  {
   "cell_type": "code",
   "execution_count": 442,
   "id": "b6f55b72-18a9-44d6-9415-ef36ef1506a1",
   "metadata": {},
   "outputs": [],
   "source": [
    "df_merged['Country'] = df_merged['Country'].str.replace('Opwijk', 'Belgium', regex=True)"
   ]
  },
  {
   "cell_type": "code",
   "execution_count": 280,
   "id": "633b93f2-cee7-49dc-92de-310e0dbaa627",
   "metadata": {},
   "outputs": [
    {
     "name": "stderr",
     "output_type": "stream",
     "text": [
      "/var/folders/vk/t91x8sx96dgcp872p9l713yh0000gn/T/ipykernel_7856/1482398809.py:1: FutureWarning: A value is trying to be set on a copy of a DataFrame or Series through chained assignment using an inplace method.\n",
      "The behavior will change in pandas 3.0. This inplace method will never work because the intermediate object on which we are setting values always behaves as a copy.\n",
      "\n",
      "For example, when doing 'df[col].method(value, inplace=True)', try using 'df.method({col: value}, inplace=True)' or df[col] = df[col].method(value) instead, to perform the operation inplace on the original object.\n",
      "\n",
      "\n",
      "  df_merged['Country'].replace(['Katwijk ','Wijdenes','Zevenbergen'], 'Netherlands', inplace=True)\n"
     ]
    }
   ],
   "source": [
    "df_merged['Country'].replace(['Katwijk ','Wijdenes','Zevenbergen'], 'Netherlands', inplace=True)"
   ]
  },
  {
   "cell_type": "code",
   "execution_count": 380,
   "id": "386f44e7-057c-4411-8849-af3c52c41250",
   "metadata": {},
   "outputs": [],
   "source": [
    "df_merged['Country'] = df_merged['Country'].str.replace('Lago Maggiore','Switzerland', regex=True)"
   ]
  },
  {
   "cell_type": "code",
   "execution_count": 410,
   "id": "e5a6459b-2a1e-4084-89dd-4eca838a74b0",
   "metadata": {},
   "outputs": [
    {
     "name": "stderr",
     "output_type": "stream",
     "text": [
      "/var/folders/vk/t91x8sx96dgcp872p9l713yh0000gn/T/ipykernel_7856/4073352873.py:1: FutureWarning: A value is trying to be set on a copy of a DataFrame or Series through chained assignment using an inplace method.\n",
      "The behavior will change in pandas 3.0. This inplace method will never work because the intermediate object on which we are setting values always behaves as a copy.\n",
      "\n",
      "For example, when doing 'df[col].method(value, inplace=True)', try using 'df.method({col: value}, inplace=True)' or df[col] = df[col].method(value) instead, to perform the operation inplace on the original object.\n",
      "\n",
      "\n",
      "  df_merged['Country'].replace(['espa?a','Mallorca ','Calanova Mallorca ','Ibiza'], 'Spain', inplace=True)\n"
     ]
    }
   ],
   "source": [
    "df_merged['Country'].replace(['espa?a','Mallorca ','Calanova Mallorca ','Ibiza'], 'Spain', inplace=True)"
   ]
  },
  {
   "cell_type": "code",
   "execution_count": 420,
   "id": "505a075e-d736-4ff3-a8ef-39cceb63f35c",
   "metadata": {},
   "outputs": [],
   "source": [
    "df_merged['Country'] = df_merged['Country'].str.replace('Italy ', 'Italy')"
   ]
  },
  {
   "cell_type": "code",
   "execution_count": 478,
   "id": "6f721ab0-b96c-4936-b5d0-1cd0bbe3e656",
   "metadata": {},
   "outputs": [
    {
     "data": {
      "text/plain": [
       "Price\n",
       "EUR 65000      77\n",
       "EUR 45000      67\n",
       "EUR 75000      64\n",
       "EUR 89000      64\n",
       "EUR 55000      61\n",
       "               ..\n",
       "EUR 1199000     1\n",
       "EUR 1197600     1\n",
       "EUR 1184590     1\n",
       "EUR 1163760     1\n",
       "CHF 3780        1\n",
       "Name: count, Length: 3182, dtype: int64"
      ]
     },
     "execution_count": 478,
     "metadata": {},
     "output_type": "execute_result"
    }
   ],
   "source": [
    "df_merged['Price'].value_counts()"
   ]
  },
  {
   "cell_type": "markdown",
   "id": "490a09ab-b659-4b4b-a543-1ff2bfbbbd4f",
   "metadata": {},
   "source": [
    "Creating Price in Euros"
   ]
  },
  {
   "cell_type": "code",
   "execution_count": 480,
   "id": "a74d275d-5085-4dde-be89-0b13b7dbcccc",
   "metadata": {},
   "outputs": [],
   "source": [
    "df_merged[['Currency','Prices(in Euros)']] = df_merged['Price'].str.split(' ',expand = True)"
   ]
  },
  {
   "cell_type": "code",
   "execution_count": 482,
   "id": "eac4207d-77fe-400e-8a5e-f9ab465b5ba7",
   "metadata": {},
   "outputs": [
    {
     "data": {
      "text/html": [
       "<div>\n",
       "<style scoped>\n",
       "    .dataframe tbody tr th:only-of-type {\n",
       "        vertical-align: middle;\n",
       "    }\n",
       "\n",
       "    .dataframe tbody tr th {\n",
       "        vertical-align: top;\n",
       "    }\n",
       "\n",
       "    .dataframe thead th {\n",
       "        text-align: right;\n",
       "    }\n",
       "</style>\n",
       "<table border=\"1\" class=\"dataframe\">\n",
       "  <thead>\n",
       "    <tr style=\"text-align: right;\">\n",
       "      <th></th>\n",
       "      <th>Price</th>\n",
       "      <th>Boat Type</th>\n",
       "      <th>Manufacturer</th>\n",
       "      <th>Type</th>\n",
       "      <th>Year Built</th>\n",
       "      <th>Length</th>\n",
       "      <th>Width</th>\n",
       "      <th>Material</th>\n",
       "      <th>Number of views last 7 days</th>\n",
       "      <th>Country</th>\n",
       "      <th>Currency</th>\n",
       "      <th>Prices(in Euros)</th>\n",
       "    </tr>\n",
       "  </thead>\n",
       "  <tbody>\n",
       "    <tr>\n",
       "      <th>0</th>\n",
       "      <td>CHF 3337</td>\n",
       "      <td>Motor Yacht</td>\n",
       "      <td>Rigiflex power boats</td>\n",
       "      <td>new boat from stock</td>\n",
       "      <td>2017</td>\n",
       "      <td>4.00</td>\n",
       "      <td>1.90</td>\n",
       "      <td>Not Available</td>\n",
       "      <td>226</td>\n",
       "      <td>Switzerland</td>\n",
       "      <td>CHF</td>\n",
       "      <td>3337</td>\n",
       "    </tr>\n",
       "    <tr>\n",
       "      <th>1</th>\n",
       "      <td>EUR 3490</td>\n",
       "      <td>Center console boat</td>\n",
       "      <td>Terhi power boats</td>\n",
       "      <td>new boat from stock</td>\n",
       "      <td>2020</td>\n",
       "      <td>4.00</td>\n",
       "      <td>1.50</td>\n",
       "      <td>Thermoplastic</td>\n",
       "      <td>75</td>\n",
       "      <td>Germany</td>\n",
       "      <td>EUR</td>\n",
       "      <td>3490</td>\n",
       "    </tr>\n",
       "    <tr>\n",
       "      <th>2</th>\n",
       "      <td>CHF 3770</td>\n",
       "      <td>Sport Boat</td>\n",
       "      <td>Marine power boats</td>\n",
       "      <td>new boat from stock</td>\n",
       "      <td>0</td>\n",
       "      <td>3.69</td>\n",
       "      <td>1.42</td>\n",
       "      <td>Aluminium</td>\n",
       "      <td>124</td>\n",
       "      <td>Switzerland</td>\n",
       "      <td>CHF</td>\n",
       "      <td>3770</td>\n",
       "    </tr>\n",
       "    <tr>\n",
       "      <th>3</th>\n",
       "      <td>DKK 25900</td>\n",
       "      <td>Sport Boat</td>\n",
       "      <td>Pioner power boats</td>\n",
       "      <td>new boat from stock</td>\n",
       "      <td>2020</td>\n",
       "      <td>3.00</td>\n",
       "      <td>1.00</td>\n",
       "      <td>Not Available</td>\n",
       "      <td>64</td>\n",
       "      <td>Denmark</td>\n",
       "      <td>DKK</td>\n",
       "      <td>25900</td>\n",
       "    </tr>\n",
       "    <tr>\n",
       "      <th>4</th>\n",
       "      <td>EUR 3399</td>\n",
       "      <td>Fishing Boat</td>\n",
       "      <td>Linder power boats</td>\n",
       "      <td>new boat from stock</td>\n",
       "      <td>2019</td>\n",
       "      <td>3.55</td>\n",
       "      <td>1.46</td>\n",
       "      <td>Aluminium</td>\n",
       "      <td>58</td>\n",
       "      <td>Germany</td>\n",
       "      <td>EUR</td>\n",
       "      <td>3399</td>\n",
       "    </tr>\n",
       "    <tr>\n",
       "      <th>...</th>\n",
       "      <td>...</td>\n",
       "      <td>...</td>\n",
       "      <td>...</td>\n",
       "      <td>...</td>\n",
       "      <td>...</td>\n",
       "      <td>...</td>\n",
       "      <td>...</td>\n",
       "      <td>...</td>\n",
       "      <td>...</td>\n",
       "      <td>...</td>\n",
       "      <td>...</td>\n",
       "      <td>...</td>\n",
       "    </tr>\n",
       "    <tr>\n",
       "      <th>9883</th>\n",
       "      <td>CHF 4900</td>\n",
       "      <td>Sport Boat</td>\n",
       "      <td>Sea Ray power boats</td>\n",
       "      <td>Used boat,Unleaded</td>\n",
       "      <td>1987</td>\n",
       "      <td>6.30</td>\n",
       "      <td>2.44</td>\n",
       "      <td>Not Available</td>\n",
       "      <td>1116</td>\n",
       "      <td>Switzerland</td>\n",
       "      <td>CHF</td>\n",
       "      <td>4900</td>\n",
       "    </tr>\n",
       "    <tr>\n",
       "      <th>9884</th>\n",
       "      <td>EUR 4516</td>\n",
       "      <td>Sport Boat</td>\n",
       "      <td>Not Available</td>\n",
       "      <td>new boat from stock</td>\n",
       "      <td>0</td>\n",
       "      <td>4.17</td>\n",
       "      <td>1.68</td>\n",
       "      <td>GRP</td>\n",
       "      <td>94</td>\n",
       "      <td>Germany</td>\n",
       "      <td>EUR</td>\n",
       "      <td>4516</td>\n",
       "    </tr>\n",
       "    <tr>\n",
       "      <th>9885</th>\n",
       "      <td>EUR 4499</td>\n",
       "      <td>Sport Boat</td>\n",
       "      <td>BlueCraft power boats</td>\n",
       "      <td>new boat from stock,Unleaded</td>\n",
       "      <td>2020</td>\n",
       "      <td>4.40</td>\n",
       "      <td>1.80</td>\n",
       "      <td>GRP</td>\n",
       "      <td>354</td>\n",
       "      <td>Germany</td>\n",
       "      <td>EUR</td>\n",
       "      <td>4499</td>\n",
       "    </tr>\n",
       "    <tr>\n",
       "      <th>9886</th>\n",
       "      <td>EUR 4300</td>\n",
       "      <td>Pontoon Boat</td>\n",
       "      <td>Whaly power boats</td>\n",
       "      <td>new boat from stock</td>\n",
       "      <td>2018</td>\n",
       "      <td>4.37</td>\n",
       "      <td>1.89</td>\n",
       "      <td>Not Available</td>\n",
       "      <td>266</td>\n",
       "      <td>Italy</td>\n",
       "      <td>EUR</td>\n",
       "      <td>4300</td>\n",
       "    </tr>\n",
       "    <tr>\n",
       "      <th>9887</th>\n",
       "      <td>CHF 3780</td>\n",
       "      <td>Fishing Boat</td>\n",
       "      <td>DarekCo power boats</td>\n",
       "      <td>new boat from stock</td>\n",
       "      <td>2019</td>\n",
       "      <td>3.60</td>\n",
       "      <td>1.60</td>\n",
       "      <td>GRP</td>\n",
       "      <td>194</td>\n",
       "      <td>Switzerland</td>\n",
       "      <td>CHF</td>\n",
       "      <td>3780</td>\n",
       "    </tr>\n",
       "  </tbody>\n",
       "</table>\n",
       "<p>9888 rows × 12 columns</p>\n",
       "</div>"
      ],
      "text/plain": [
       "          Price            Boat Type           Manufacturer  \\\n",
       "0      CHF 3337          Motor Yacht   Rigiflex power boats   \n",
       "1      EUR 3490  Center console boat      Terhi power boats   \n",
       "2      CHF 3770           Sport Boat     Marine power boats   \n",
       "3     DKK 25900           Sport Boat     Pioner power boats   \n",
       "4      EUR 3399         Fishing Boat     Linder power boats   \n",
       "...         ...                  ...                    ...   \n",
       "9883   CHF 4900           Sport Boat    Sea Ray power boats   \n",
       "9884   EUR 4516           Sport Boat          Not Available   \n",
       "9885   EUR 4499           Sport Boat  BlueCraft power boats   \n",
       "9886   EUR 4300         Pontoon Boat      Whaly power boats   \n",
       "9887   CHF 3780         Fishing Boat    DarekCo power boats   \n",
       "\n",
       "                              Type  Year Built  Length  Width       Material  \\\n",
       "0              new boat from stock        2017    4.00   1.90  Not Available   \n",
       "1              new boat from stock        2020    4.00   1.50  Thermoplastic   \n",
       "2              new boat from stock           0    3.69   1.42      Aluminium   \n",
       "3              new boat from stock        2020    3.00   1.00  Not Available   \n",
       "4              new boat from stock        2019    3.55   1.46      Aluminium   \n",
       "...                            ...         ...     ...    ...            ...   \n",
       "9883            Used boat,Unleaded        1987    6.30   2.44  Not Available   \n",
       "9884           new boat from stock           0    4.17   1.68            GRP   \n",
       "9885  new boat from stock,Unleaded        2020    4.40   1.80            GRP   \n",
       "9886           new boat from stock        2018    4.37   1.89  Not Available   \n",
       "9887           new boat from stock        2019    3.60   1.60            GRP   \n",
       "\n",
       "      Number of views last 7 days      Country Currency Prices(in Euros)  \n",
       "0                             226  Switzerland      CHF             3337  \n",
       "1                              75      Germany      EUR             3490  \n",
       "2                             124  Switzerland      CHF             3770  \n",
       "3                              64      Denmark      DKK            25900  \n",
       "4                              58      Germany      EUR             3399  \n",
       "...                           ...          ...      ...              ...  \n",
       "9883                         1116  Switzerland      CHF             4900  \n",
       "9884                           94      Germany      EUR             4516  \n",
       "9885                          354      Germany      EUR             4499  \n",
       "9886                          266        Italy      EUR             4300  \n",
       "9887                          194  Switzerland      CHF             3780  \n",
       "\n",
       "[9888 rows x 12 columns]"
      ]
     },
     "execution_count": 482,
     "metadata": {},
     "output_type": "execute_result"
    }
   ],
   "source": [
    "df_merged"
   ]
  },
  {
   "cell_type": "code",
   "execution_count": 484,
   "id": "72e6e8f4-26b4-4f7b-a1a2-d23a345f18e6",
   "metadata": {},
   "outputs": [],
   "source": [
    "df_merged['Prices(in Euros)'] =  df_merged['Prices(in Euros)'].astype('float64')"
   ]
  },
  {
   "cell_type": "code",
   "execution_count": 486,
   "id": "a0d76fa7-814f-407f-894e-ddb7aa06485c",
   "metadata": {},
   "outputs": [],
   "source": [
    "df_merged.rename(columns ={'Prices(in Euros)' : 'Prices'},inplace = True)"
   ]
  },
  {
   "cell_type": "code",
   "execution_count": 488,
   "id": "01e059f7-4b8a-47ee-b15a-cf4767b1af7a",
   "metadata": {},
   "outputs": [
    {
     "data": {
      "text/plain": [
       "Price                           object\n",
       "Boat Type                       object\n",
       "Manufacturer                    object\n",
       "Type                            object\n",
       "Year Built                       int64\n",
       "Length                         float64\n",
       "Width                          float64\n",
       "Material                        object\n",
       "Number of views last 7 days      int64\n",
       "Country                         object\n",
       "Currency                        object\n",
       "Prices                         float64\n",
       "dtype: object"
      ]
     },
     "execution_count": 488,
     "metadata": {},
     "output_type": "execute_result"
    }
   ],
   "source": [
    "df_merged.dtypes"
   ]
  },
  {
   "cell_type": "code",
   "execution_count": 490,
   "id": "bb9c2d96-72a3-4885-a58b-8d9301429a75",
   "metadata": {},
   "outputs": [],
   "source": [
    "def europrice (Prices,Currency):\n",
    "    if Currency == 'EUR':\n",
    "        return Prices\n",
    "    elif Currency == 'DKK':\n",
    "        return (Prices*0.13)\n",
    "    elif Currency == 'CHF':\n",
    "        return (Prices * 1.07)\n",
    "    elif Currency == 'GBP':\n",
    "        return (Prices*1.16)\n",
    "    else:\n",
    "        return 'Not Available'\n",
    "    \n"
   ]
  },
  {
   "cell_type": "code",
   "execution_count": 492,
   "id": "0890bed6-31d1-4caf-9f03-903494359902",
   "metadata": {},
   "outputs": [],
   "source": [
    "df_merged['Prices in Euros'] = df_merged.apply(lambda x: europrice(x.Prices,x.Currency),axis = 1)"
   ]
  },
  {
   "cell_type": "code",
   "execution_count": 494,
   "id": "c14f533f-7821-46fa-b941-0d3eab77b3a2",
   "metadata": {},
   "outputs": [
    {
     "data": {
      "text/plain": [
       "Index(['Price', 'Boat Type', 'Manufacturer', 'Type', 'Year Built', 'Length',\n",
       "       'Width', 'Material', 'Number of views last 7 days', 'Country',\n",
       "       'Currency', 'Prices', 'Prices in Euros'],\n",
       "      dtype='object')"
      ]
     },
     "execution_count": 494,
     "metadata": {},
     "output_type": "execute_result"
    }
   ],
   "source": [
    "df_merged.columns"
   ]
  },
  {
   "cell_type": "code",
   "execution_count": 496,
   "id": "3592429f-e5c0-418b-878d-f035f4983211",
   "metadata": {},
   "outputs": [],
   "source": [
    "df_merged = df_merged.drop(columns = ['Price','Prices','Currency'])"
   ]
  },
  {
   "cell_type": "code",
   "execution_count": 498,
   "id": "b03cf710-44c2-4ad0-aa88-1e43c099fe0a",
   "metadata": {},
   "outputs": [
    {
     "data": {
      "text/plain": [
       "(9888, 10)"
      ]
     },
     "execution_count": 498,
     "metadata": {},
     "output_type": "execute_result"
    }
   ],
   "source": [
    "df_merged.shape"
   ]
  },
  {
   "cell_type": "code",
   "execution_count": 5,
   "id": "1d071940-4e87-4556-a038-d26cb94639e5",
   "metadata": {},
   "outputs": [
    {
     "ename": "NameError",
     "evalue": "name 'df_merged' is not defined",
     "output_type": "error",
     "traceback": [
      "\u001b[0;31m---------------------------------------------------------------------------\u001b[0m",
      "\u001b[0;31mNameError\u001b[0m                                 Traceback (most recent call last)",
      "Cell \u001b[0;32mIn[5], line 1\u001b[0m\n\u001b[0;32m----> 1\u001b[0m df_merged\u001b[38;5;241m.\u001b[39mto_pickle(os\u001b[38;5;241m.\u001b[39mpath\u001b[38;5;241m.\u001b[39mjoin(path,\u001b[38;5;124m'\u001b[39m\u001b[38;5;124mBoat_Sales.pkl\u001b[39m\u001b[38;5;124m'\u001b[39m))\n",
      "\u001b[0;31mNameError\u001b[0m: name 'df_merged' is not defined"
     ]
    }
   ],
   "source": [
    "df_merged.to_pickle(os.path.join(path,'Boat_Sales.pkl'))"
   ]
  },
  {
   "cell_type": "code",
   "execution_count": 7,
   "id": "c6f65a0a-9417-44b1-a5be-380bfa57f811",
   "metadata": {},
   "outputs": [],
   "source": [
    "df_merged = pd.read_pickle(os.path.join(path,'Boat_Sales.pkl'),compression='infer')"
   ]
  },
  {
   "cell_type": "code",
   "execution_count": 9,
   "id": "e278644a-80cc-459d-adc2-9e497de2b80a",
   "metadata": {},
   "outputs": [
    {
     "data": {
      "text/html": [
       "<div>\n",
       "<style scoped>\n",
       "    .dataframe tbody tr th:only-of-type {\n",
       "        vertical-align: middle;\n",
       "    }\n",
       "\n",
       "    .dataframe tbody tr th {\n",
       "        vertical-align: top;\n",
       "    }\n",
       "\n",
       "    .dataframe thead th {\n",
       "        text-align: right;\n",
       "    }\n",
       "</style>\n",
       "<table border=\"1\" class=\"dataframe\">\n",
       "  <thead>\n",
       "    <tr style=\"text-align: right;\">\n",
       "      <th></th>\n",
       "      <th>Boat Type</th>\n",
       "      <th>Manufacturer</th>\n",
       "      <th>Type</th>\n",
       "      <th>Year Built</th>\n",
       "      <th>Length</th>\n",
       "      <th>Width</th>\n",
       "      <th>Material</th>\n",
       "      <th>Number of views last 7 days</th>\n",
       "      <th>Country</th>\n",
       "      <th>Prices in Euros</th>\n",
       "    </tr>\n",
       "  </thead>\n",
       "  <tbody>\n",
       "    <tr>\n",
       "      <th>0</th>\n",
       "      <td>Motor Yacht</td>\n",
       "      <td>Rigiflex power boats</td>\n",
       "      <td>new boat from stock</td>\n",
       "      <td>2017</td>\n",
       "      <td>4.00</td>\n",
       "      <td>1.90</td>\n",
       "      <td>Not Available</td>\n",
       "      <td>226</td>\n",
       "      <td>Switzerland</td>\n",
       "      <td>3570.59</td>\n",
       "    </tr>\n",
       "    <tr>\n",
       "      <th>1</th>\n",
       "      <td>Center console boat</td>\n",
       "      <td>Terhi power boats</td>\n",
       "      <td>new boat from stock</td>\n",
       "      <td>2020</td>\n",
       "      <td>4.00</td>\n",
       "      <td>1.50</td>\n",
       "      <td>Thermoplastic</td>\n",
       "      <td>75</td>\n",
       "      <td>Germany</td>\n",
       "      <td>3490.00</td>\n",
       "    </tr>\n",
       "    <tr>\n",
       "      <th>2</th>\n",
       "      <td>Sport Boat</td>\n",
       "      <td>Marine power boats</td>\n",
       "      <td>new boat from stock</td>\n",
       "      <td>0</td>\n",
       "      <td>3.69</td>\n",
       "      <td>1.42</td>\n",
       "      <td>Aluminium</td>\n",
       "      <td>124</td>\n",
       "      <td>Switzerland</td>\n",
       "      <td>4033.90</td>\n",
       "    </tr>\n",
       "    <tr>\n",
       "      <th>3</th>\n",
       "      <td>Sport Boat</td>\n",
       "      <td>Pioner power boats</td>\n",
       "      <td>new boat from stock</td>\n",
       "      <td>2020</td>\n",
       "      <td>3.00</td>\n",
       "      <td>1.00</td>\n",
       "      <td>Not Available</td>\n",
       "      <td>64</td>\n",
       "      <td>Denmark</td>\n",
       "      <td>3367.00</td>\n",
       "    </tr>\n",
       "    <tr>\n",
       "      <th>4</th>\n",
       "      <td>Fishing Boat</td>\n",
       "      <td>Linder power boats</td>\n",
       "      <td>new boat from stock</td>\n",
       "      <td>2019</td>\n",
       "      <td>3.55</td>\n",
       "      <td>1.46</td>\n",
       "      <td>Aluminium</td>\n",
       "      <td>58</td>\n",
       "      <td>Germany</td>\n",
       "      <td>3399.00</td>\n",
       "    </tr>\n",
       "  </tbody>\n",
       "</table>\n",
       "</div>"
      ],
      "text/plain": [
       "             Boat Type          Manufacturer                 Type  Year Built  \\\n",
       "0          Motor Yacht  Rigiflex power boats  new boat from stock        2017   \n",
       "1  Center console boat     Terhi power boats  new boat from stock        2020   \n",
       "2           Sport Boat    Marine power boats  new boat from stock           0   \n",
       "3           Sport Boat    Pioner power boats  new boat from stock        2020   \n",
       "4         Fishing Boat    Linder power boats  new boat from stock        2019   \n",
       "\n",
       "   Length  Width       Material  Number of views last 7 days      Country  \\\n",
       "0    4.00   1.90  Not Available                          226  Switzerland   \n",
       "1    4.00   1.50  Thermoplastic                           75      Germany   \n",
       "2    3.69   1.42      Aluminium                          124  Switzerland   \n",
       "3    3.00   1.00  Not Available                           64      Denmark   \n",
       "4    3.55   1.46      Aluminium                           58      Germany   \n",
       "\n",
       "   Prices in Euros  \n",
       "0          3570.59  \n",
       "1          3490.00  \n",
       "2          4033.90  \n",
       "3          3367.00  \n",
       "4          3399.00  "
      ]
     },
     "execution_count": 9,
     "metadata": {},
     "output_type": "execute_result"
    }
   ],
   "source": [
    "df_merged.head()"
   ]
  },
  {
   "cell_type": "code",
   "execution_count": 506,
   "id": "799d6059-014e-47d1-a09c-103dcfc98f50",
   "metadata": {},
   "outputs": [
    {
     "data": {
      "text/plain": [
       "(9888, 10)"
      ]
     },
     "execution_count": 506,
     "metadata": {},
     "output_type": "execute_result"
    }
   ],
   "source": [
    "df_merged.shape"
   ]
  },
  {
   "cell_type": "code",
   "execution_count": 11,
   "id": "a77e26c4-ba47-43ba-9fff-31cd9ffbf100",
   "metadata": {},
   "outputs": [
    {
     "data": {
      "text/plain": [
       "Year Built\n",
       "2020    1279\n",
       "2019     663\n",
       "0        551\n",
       "2008     457\n",
       "2007     393\n",
       "2006     393\n",
       "2018     351\n",
       "2017     314\n",
       "2005     307\n",
       "2009     303\n",
       "2004     270\n",
       "2016     227\n",
       "2003     226\n",
       "2010     222\n",
       "2011     211\n",
       "2001     202\n",
       "2015     199\n",
       "2000     195\n",
       "2002     188\n",
       "2012     175\n",
       "2014     168\n",
       "2013     160\n",
       "1996     147\n",
       "1999     144\n",
       "1995     138\n",
       "1992     135\n",
       "1991     130\n",
       "1997     130\n",
       "1990     120\n",
       "1998     118\n",
       "1994     113\n",
       "1993      95\n",
       "1989      86\n",
       "1988      72\n",
       "1980      69\n",
       "1987      61\n",
       "1978      57\n",
       "1985      55\n",
       "2021      53\n",
       "1979      50\n",
       "1986      50\n",
       "1976      40\n",
       "1981      40\n",
       "1984      40\n",
       "1974      30\n",
       "1975      30\n",
       "1983      27\n",
       "1972      27\n",
       "1982      25\n",
       "1973      23\n",
       "1971      20\n",
       "1970      17\n",
       "1967      16\n",
       "1965      16\n",
       "1977      14\n",
       "1968      12\n",
       "1969      11\n",
       "1963      11\n",
       "1961      11\n",
       "1910      10\n",
       "1962       8\n",
       "1922       7\n",
       "1958       7\n",
       "1964       6\n",
       "1960       6\n",
       "1930       6\n",
       "1950       6\n",
       "1966       6\n",
       "1954       5\n",
       "1959       5\n",
       "1925       5\n",
       "1926       5\n",
       "1948       5\n",
       "1936       5\n",
       "1955       5\n",
       "1956       5\n",
       "1952       4\n",
       "1911       4\n",
       "1927       4\n",
       "1907       4\n",
       "1920       4\n",
       "1919       4\n",
       "1928       4\n",
       "1934       3\n",
       "1924       3\n",
       "1905       3\n",
       "1901       3\n",
       "1923       3\n",
       "1951       3\n",
       "1909       3\n",
       "1903       3\n",
       "1906       3\n",
       "1940       3\n",
       "1929       3\n",
       "1933       3\n",
       "1949       2\n",
       "1913       2\n",
       "1938       2\n",
       "1957       2\n",
       "1915       2\n",
       "1953       2\n",
       "1939       2\n",
       "1908       2\n",
       "1898       1\n",
       "1902       1\n",
       "1897       1\n",
       "1945       1\n",
       "1912       1\n",
       "1947       1\n",
       "1935       1\n",
       "1917       1\n",
       "1946       1\n",
       "1904       1\n",
       "1941       1\n",
       "1889       1\n",
       "1937       1\n",
       "1942       1\n",
       "1914       1\n",
       "1895       1\n",
       "1885       1\n",
       "1931       1\n",
       "1900       1\n",
       "Name: count, dtype: int64"
      ]
     },
     "execution_count": 11,
     "metadata": {},
     "output_type": "execute_result"
    }
   ],
   "source": [
    "pd.set_option('display.max_rows', 500)\n",
    "df_merged['Year Built'].value_counts()"
   ]
  },
  {
   "cell_type": "code",
   "execution_count": 13,
   "id": "adfb5b44-5af6-44ac-82ea-fc3a47e3ebae",
   "metadata": {},
   "outputs": [
    {
     "data": {
      "text/html": [
       "<div>\n",
       "<style scoped>\n",
       "    .dataframe tbody tr th:only-of-type {\n",
       "        vertical-align: middle;\n",
       "    }\n",
       "\n",
       "    .dataframe tbody tr th {\n",
       "        vertical-align: top;\n",
       "    }\n",
       "\n",
       "    .dataframe thead th {\n",
       "        text-align: right;\n",
       "    }\n",
       "</style>\n",
       "<table border=\"1\" class=\"dataframe\">\n",
       "  <thead>\n",
       "    <tr style=\"text-align: right;\">\n",
       "      <th></th>\n",
       "      <th>Year Built</th>\n",
       "      <th>Length</th>\n",
       "      <th>Width</th>\n",
       "      <th>Number of views last 7 days</th>\n",
       "      <th>Prices in Euros</th>\n",
       "    </tr>\n",
       "  </thead>\n",
       "  <tbody>\n",
       "    <tr>\n",
       "      <th>count</th>\n",
       "      <td>9888.000000</td>\n",
       "      <td>9888.000000</td>\n",
       "      <td>9888.000000</td>\n",
       "      <td>9888.000000</td>\n",
       "      <td>9.888000e+03</td>\n",
       "    </tr>\n",
       "    <tr>\n",
       "      <th>mean</th>\n",
       "      <td>1893.192860</td>\n",
       "      <td>11.570017</td>\n",
       "      <td>3.520123</td>\n",
       "      <td>149.160801</td>\n",
       "      <td>3.031812e+05</td>\n",
       "    </tr>\n",
       "    <tr>\n",
       "      <th>std</th>\n",
       "      <td>460.201582</td>\n",
       "      <td>6.000087</td>\n",
       "      <td>1.217073</td>\n",
       "      <td>151.819752</td>\n",
       "      <td>9.704909e+05</td>\n",
       "    </tr>\n",
       "    <tr>\n",
       "      <th>min</th>\n",
       "      <td>0.000000</td>\n",
       "      <td>1.040000</td>\n",
       "      <td>0.010000</td>\n",
       "      <td>13.000000</td>\n",
       "      <td>3.224000e+03</td>\n",
       "    </tr>\n",
       "    <tr>\n",
       "      <th>25%</th>\n",
       "      <td>1996.000000</td>\n",
       "      <td>7.470000</td>\n",
       "      <td>2.550000</td>\n",
       "      <td>70.000000</td>\n",
       "      <td>4.300000e+04</td>\n",
       "    </tr>\n",
       "    <tr>\n",
       "      <th>50%</th>\n",
       "      <td>2007.000000</td>\n",
       "      <td>10.300000</td>\n",
       "      <td>3.350000</td>\n",
       "      <td>108.000000</td>\n",
       "      <td>9.402650e+04</td>\n",
       "    </tr>\n",
       "    <tr>\n",
       "      <th>75%</th>\n",
       "      <td>2017.000000</td>\n",
       "      <td>13.920000</td>\n",
       "      <td>4.250000</td>\n",
       "      <td>172.000000</td>\n",
       "      <td>2.490000e+05</td>\n",
       "    </tr>\n",
       "    <tr>\n",
       "      <th>max</th>\n",
       "      <td>2021.000000</td>\n",
       "      <td>100.000000</td>\n",
       "      <td>25.160000</td>\n",
       "      <td>3263.000000</td>\n",
       "      <td>3.100000e+07</td>\n",
       "    </tr>\n",
       "  </tbody>\n",
       "</table>\n",
       "</div>"
      ],
      "text/plain": [
       "        Year Built       Length        Width  Number of views last 7 days  \\\n",
       "count  9888.000000  9888.000000  9888.000000                  9888.000000   \n",
       "mean   1893.192860    11.570017     3.520123                   149.160801   \n",
       "std     460.201582     6.000087     1.217073                   151.819752   \n",
       "min       0.000000     1.040000     0.010000                    13.000000   \n",
       "25%    1996.000000     7.470000     2.550000                    70.000000   \n",
       "50%    2007.000000    10.300000     3.350000                   108.000000   \n",
       "75%    2017.000000    13.920000     4.250000                   172.000000   \n",
       "max    2021.000000   100.000000    25.160000                  3263.000000   \n",
       "\n",
       "       Prices in Euros  \n",
       "count     9.888000e+03  \n",
       "mean      3.031812e+05  \n",
       "std       9.704909e+05  \n",
       "min       3.224000e+03  \n",
       "25%       4.300000e+04  \n",
       "50%       9.402650e+04  \n",
       "75%       2.490000e+05  \n",
       "max       3.100000e+07  "
      ]
     },
     "execution_count": 13,
     "metadata": {},
     "output_type": "execute_result"
    }
   ],
   "source": [
    "df_merged.describe()"
   ]
  },
  {
   "cell_type": "code",
   "execution_count": null,
   "id": "288132a2-5afb-489d-8003-7c093138ee90",
   "metadata": {},
   "outputs": [],
   "source": []
  }
 ],
 "metadata": {
  "kernelspec": {
   "display_name": "Python 3 (ipykernel)",
   "language": "python",
   "name": "python3"
  },
  "language_info": {
   "codemirror_mode": {
    "name": "ipython",
    "version": 3
   },
   "file_extension": ".py",
   "mimetype": "text/x-python",
   "name": "python",
   "nbconvert_exporter": "python",
   "pygments_lexer": "ipython3",
   "version": "3.12.4"
  }
 },
 "nbformat": 4,
 "nbformat_minor": 5
}
